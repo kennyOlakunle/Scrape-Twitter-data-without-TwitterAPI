{
 "cells": [
  {
   "cell_type": "code",
   "execution_count": 2,
   "metadata": {},
   "outputs": [],
   "source": [
    "import pandas as pd\n",
    "import snscrape.modules.twitter as sntwitter"
   ]
  },
  {
   "cell_type": "code",
   "execution_count": 15,
   "metadata": {},
   "outputs": [],
   "source": [
    "scraper = sntwitter.TwitterSearchScraper(\"#python\")"
   ]
  },
  {
   "cell_type": "code",
   "execution_count": 16,
   "metadata": {},
   "outputs": [],
   "source": [
    "scraper = sntwitter.TwitterSearchScraper(\"#python\")\n",
    "\n",
    "tweets = []\n",
    "\n",
    "for i, tweet in enumerate(scraper.get_items()):\n",
    "    data = [tweet.date, tweet.id, tweet.rawContent, tweet.likeCount, tweet.retweetCount, tweet.user.username]\n",
    "    tweets.append(data)\n",
    "    if i > 50:\n",
    "        break"
   ]
  },
  {
   "cell_type": "code",
   "execution_count": 20,
   "metadata": {},
   "outputs": [],
   "source": [
    "tweet_df = pd.DataFrame(tweets, columns=[\"date\", \"id\", \"rawContent\", \"likeCount\", \"retweetCount\", \"username\"])"
   ]
  },
  {
   "cell_type": "code",
   "execution_count": 22,
   "metadata": {},
   "outputs": [
    {
     "data": {
      "text/html": [
       "<div>\n",
       "<style scoped>\n",
       "    .dataframe tbody tr th:only-of-type {\n",
       "        vertical-align: middle;\n",
       "    }\n",
       "\n",
       "    .dataframe tbody tr th {\n",
       "        vertical-align: top;\n",
       "    }\n",
       "\n",
       "    .dataframe thead th {\n",
       "        text-align: right;\n",
       "    }\n",
       "</style>\n",
       "<table border=\"1\" class=\"dataframe\">\n",
       "  <thead>\n",
       "    <tr style=\"text-align: right;\">\n",
       "      <th></th>\n",
       "      <th>date</th>\n",
       "      <th>id</th>\n",
       "      <th>rawContent</th>\n",
       "      <th>likeCount</th>\n",
       "      <th>retweetCount</th>\n",
       "      <th>username</th>\n",
       "    </tr>\n",
       "  </thead>\n",
       "  <tbody>\n",
       "    <tr>\n",
       "      <th>0</th>\n",
       "      <td>2023-01-01 03:22:32+00:00</td>\n",
       "      <td>1609389585699586048</td>\n",
       "      <td>You need help with your account recovery kindl...</td>\n",
       "      <td>0</td>\n",
       "      <td>0</td>\n",
       "      <td>CybertechBrian1</td>\n",
       "    </tr>\n",
       "    <tr>\n",
       "      <th>1</th>\n",
       "      <td>2023-01-01 03:22:07+00:00</td>\n",
       "      <td>1609389479848202242</td>\n",
       "      <td>246/365 days,\\n\\nPython Program to Find the Su...</td>\n",
       "      <td>1</td>\n",
       "      <td>0</td>\n",
       "      <td>SatwikS8</td>\n",
       "    </tr>\n",
       "    <tr>\n",
       "      <th>2</th>\n",
       "      <td>2023-01-01 03:21:18+00:00</td>\n",
       "      <td>1609389271705845761</td>\n",
       "      <td>You need a Hacker for your service DM  now ver...</td>\n",
       "      <td>0</td>\n",
       "      <td>0</td>\n",
       "      <td>CybertechBrian1</td>\n",
       "    </tr>\n",
       "    <tr>\n",
       "      <th>3</th>\n",
       "      <td>2023-01-01 03:21:02+00:00</td>\n",
       "      <td>1609389204815085569</td>\n",
       "      <td>Have Your account been #Hacked Dm now for help...</td>\n",
       "      <td>0</td>\n",
       "      <td>1</td>\n",
       "      <td>CybertechBrian1</td>\n",
       "    </tr>\n",
       "    <tr>\n",
       "      <th>4</th>\n",
       "      <td>2023-01-01 03:20:14+00:00</td>\n",
       "      <td>1609389004452990976</td>\n",
       "      <td>Weather at Fort Meade / Tipton, MD - via NOAA'...</td>\n",
       "      <td>0</td>\n",
       "      <td>0</td>\n",
       "      <td>gpibot_g</td>\n",
       "    </tr>\n",
       "  </tbody>\n",
       "</table>\n",
       "</div>"
      ],
      "text/plain": [
       "                       date                   id  \\\n",
       "0 2023-01-01 03:22:32+00:00  1609389585699586048   \n",
       "1 2023-01-01 03:22:07+00:00  1609389479848202242   \n",
       "2 2023-01-01 03:21:18+00:00  1609389271705845761   \n",
       "3 2023-01-01 03:21:02+00:00  1609389204815085569   \n",
       "4 2023-01-01 03:20:14+00:00  1609389004452990976   \n",
       "\n",
       "                                          rawContent  likeCount  retweetCount  \\\n",
       "0  You need help with your account recovery kindl...          0             0   \n",
       "1  246/365 days,\\n\\nPython Program to Find the Su...          1             0   \n",
       "2  You need a Hacker for your service DM  now ver...          0             0   \n",
       "3  Have Your account been #Hacked Dm now for help...          0             1   \n",
       "4  Weather at Fort Meade / Tipton, MD - via NOAA'...          0             0   \n",
       "\n",
       "          username  \n",
       "0  CybertechBrian1  \n",
       "1         SatwikS8  \n",
       "2  CybertechBrian1  \n",
       "3  CybertechBrian1  \n",
       "4         gpibot_g  "
      ]
     },
     "execution_count": 22,
     "metadata": {},
     "output_type": "execute_result"
    }
   ],
   "source": [
    "tweet_df.head()"
   ]
  },
  {
   "cell_type": "code",
   "execution_count": null,
   "metadata": {},
   "outputs": [],
   "source": []
  }
 ],
 "metadata": {
  "kernelspec": {
   "display_name": "base",
   "language": "python",
   "name": "python3"
  },
  "language_info": {
   "codemirror_mode": {
    "name": "ipython",
    "version": 3
   },
   "file_extension": ".py",
   "mimetype": "text/x-python",
   "name": "python",
   "nbconvert_exporter": "python",
   "pygments_lexer": "ipython3",
   "version": "3.9.13"
  },
  "orig_nbformat": 4,
  "vscode": {
   "interpreter": {
    "hash": "2a3dc5f1e33ff34b670661527fa3b2e9f8bbc79ab2de1e61761b10443b9fa433"
   }
  }
 },
 "nbformat": 4,
 "nbformat_minor": 2
}
